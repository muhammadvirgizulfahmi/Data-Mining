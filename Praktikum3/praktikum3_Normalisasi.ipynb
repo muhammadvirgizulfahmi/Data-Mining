{
 "cells": [
  {
   "cell_type": "code",
   "execution_count": 1,
   "metadata": {},
   "outputs": [],
   "source": [
    "import numpy as np\n",
    "from sklearn.preprocessing import MinMaxScaler\n",
    "from sklearn.preprocessing import StandardScaler"
   ]
  },
  {
   "cell_type": "code",
   "execution_count": 2,
   "metadata": {},
   "outputs": [
    {
     "name": "stdout",
     "output_type": "stream",
     "text": [
      "Data Asli: \n",
      "[[2. 5.]\n",
      " [1. 4.]\n",
      " [3. 6.]]\n",
      "\n",
      "Data setelah di Min-Max Scaling: \n",
      "[[0.5 0.5]\n",
      " [0.  0. ]\n",
      " [1.  1. ]]\n"
     ]
    }
   ],
   "source": [
    "# data contoh\n",
    "data = np.array([[2.0, 5.0],\n",
    "                 [1.0, 4.0],\n",
    "                 [3.0, 6.0]])\n",
    "\n",
    "# inisialisasi objek minmaxscaler\n",
    "scaler = MinMaxScaler()\n",
    "\n",
    "# fit dan transformasi data menggunakan min-max scaling\n",
    "scaled_data = scaler.fit_transform(data)\n",
    "\n",
    "print(\"Data Asli: \")\n",
    "print(data)\n",
    "\n",
    "print(\"\\nData setelah di Min-Max Scaling: \")\n",
    "print(scaled_data)"
   ]
  },
  {
   "cell_type": "code",
   "execution_count": 3,
   "metadata": {},
   "outputs": [
    {
     "name": "stdout",
     "output_type": "stream",
     "text": [
      "Data Asli: \n",
      "[[2. 5.]\n",
      " [1. 4.]\n",
      " [3. 6.]]\n",
      "\n",
      "Data Setelah Z-Score Transformation: \n",
      "[[ 0.          0.        ]\n",
      " [-1.22474487 -1.22474487]\n",
      " [ 1.22474487  1.22474487]]\n"
     ]
    }
   ],
   "source": [
    "# data contoh\n",
    "data = np.array([[2.0, 5.0],\n",
    "                 [1.0, 4.0],\n",
    "                 [3.0, 6.0]])\n",
    "\n",
    "# inisialisasi objek standardscaler\n",
    "scaler = StandardScaler()\n",
    "\n",
    "# fit dan transformasi data menggunakan z-score transformation\n",
    "z_score_data = scaler.fit_transform(data)\n",
    "\n",
    "print(\"Data Asli: \")\n",
    "print(data)\n",
    "\n",
    "print('\\nData Setelah Z-Score Transformation: ')\n",
    "print(z_score_data)"
   ]
  },
  {
   "cell_type": "code",
   "execution_count": 4,
   "metadata": {},
   "outputs": [
    {
     "name": "stdout",
     "output_type": "stream",
     "text": [
      "Data Asli: \n",
      "[200 300 400 500 600]\n",
      "\n",
      "Data Setelah Decimal Transformation: \n",
      "[0.2 0.3 0.4 0.5 0.6]\n"
     ]
    }
   ],
   "source": [
    "# data contoh\n",
    "data = np.array([200, 300, 400, 500, 600])\n",
    "\n",
    "# menentukan faktor penggeseran (scaling factor),\n",
    "# misal 1000 untuk mengubah ke rentang 0-1\n",
    "scaling_factor = 1000\n",
    "\n",
    "# melakukan transformasi decimal scaling\n",
    "scaled_data = data / scaling_factor\n",
    "\n",
    "print(\"Data Asli: \")\n",
    "print(data)\n",
    "\n",
    "print('\\nData Setelah Decimal Transformation: ')\n",
    "print(scaled_data)"
   ]
  }
 ],
 "metadata": {
  "kernelspec": {
   "display_name": "myenv",
   "language": "python",
   "name": "python3"
  },
  "language_info": {
   "codemirror_mode": {
    "name": "ipython",
    "version": 3
   },
   "file_extension": ".py",
   "mimetype": "text/x-python",
   "name": "python",
   "nbconvert_exporter": "python",
   "pygments_lexer": "ipython3",
   "version": "3.10.13"
  }
 },
 "nbformat": 4,
 "nbformat_minor": 2
}
