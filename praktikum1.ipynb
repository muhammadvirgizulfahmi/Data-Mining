{
 "cells": [
  {
   "cell_type": "code",
   "execution_count": 18,
   "metadata": {},
   "outputs": [
    {
     "name": "stdout",
     "output_type": "stream",
     "text": [
      "ODject Creation: \n",
      "Series: \n",
      "0    1.0\n",
      "1    3.0\n",
      "2    5.0\n",
      "3    NaN\n",
      "4    6.0\n",
      "5    8.0\n",
      "dtype: float64\n",
      "\n",
      "DataFrame: \n",
      "                   A         B         C         D\n",
      "2023-10-01  1.546868 -1.078798 -0.506977 -0.905649\n",
      "2023-10-02  0.740173  1.673888  1.869180 -3.768807\n",
      "2023-10-03 -0.345186  0.598973  1.466920  0.695666\n",
      "2023-10-04 -0.154827  0.180318 -0.245466  0.909880\n",
      "2023-10-05  0.570575 -0.040503 -0.558665  1.388998\n",
      "2023-10-06  1.228333  1.852674  0.371807 -0.755692\n",
      "==================================================\n"
     ]
    }
   ],
   "source": [
    "import pandas as pd\n",
    "import numpy as np\n",
    "\n",
    "# Object Creation\n",
    "s = pd.Series([1, 3, 5, np.nan, 6, 8])\n",
    "dates = pd.date_range(\"2023-10-01\", periods=6)\n",
    "df = pd.DataFrame(np.random.randn(6, 4), index=dates, columns=list(\"ABCD\"))\n",
    "\n",
    "print(\"ODject Creation: \")\n",
    "print(\"Series: \")\n",
    "print(s)\n",
    "print(\"\\nDataFrame: \")\n",
    "print(df)\n",
    "print(\"=\"*50)\n",
    "\n"
   ]
  },
  {
   "cell_type": "code",
   "execution_count": 19,
   "metadata": {},
   "outputs": [
    {
     "name": "stdout",
     "output_type": "stream",
     "text": [
      "Viewinng Data: \n",
      "First 3 rows: \n",
      "                   A         B         C         D\n",
      "2023-10-01  1.546868 -1.078798 -0.506977 -0.905649\n",
      "2023-10-02  0.740173  1.673888  1.869180 -3.768807\n",
      "2023-10-03 -0.345186  0.598973  1.466920  0.695666\n",
      "\n",
      "Last 2 rows: \n",
      "DatetimeIndex(['2023-10-01', '2023-10-02', '2023-10-03', '2023-10-04',\n",
      "               '2023-10-05', '2023-10-06'],\n",
      "              dtype='datetime64[ns]', freq='D')\n",
      "Index(['A', 'B', 'C', 'D'], dtype='object')\n",
      "========================================\n"
     ]
    }
   ],
   "source": [
    "# Viewing Data\n",
    "print(\"Viewinng Data: \")\n",
    "print(\"First 3 rows: \")\n",
    "print(df.head(3))\n",
    "print(\"\\nLast 2 rows: \")\n",
    "print(df.index)\n",
    "print(df.columns)\n",
    "print(\"=\"*40)"
   ]
  },
  {
   "cell_type": "code",
   "execution_count": 20,
   "metadata": {},
   "outputs": [
    {
     "name": "stdout",
     "output_type": "stream",
     "text": [
      "Selection: \n",
      "Selecting a column (A): \n",
      "2023-10-01    1.546868\n",
      "2023-10-02    0.740173\n",
      "2023-10-03   -0.345186\n",
      "2023-10-04   -0.154827\n",
      "2023-10-05    0.570575\n",
      "2023-10-06    1.228333\n",
      "Freq: D, Name: A, dtype: float64\n",
      "\n",
      "Selecting by label (row 0): \n",
      "A    1.546868\n",
      "B   -1.078798\n",
      "C   -0.506977\n",
      "D   -0.905649\n",
      "Name: 2023-10-01 00:00:00, dtype: float64\n",
      "\n",
      "Selecting by position (row 1): \n",
      "A    0.740173\n",
      "B    1.673888\n",
      "C    1.869180\n",
      "D   -3.768807\n",
      "Name: 2023-10-02 00:00:00, dtype: float64\n",
      "\n",
      "Selecting a subset of rows and columns: \n",
      "                   A         B\n",
      "2023-10-02  0.740173  1.673888\n",
      "2023-10-03 -0.345186  0.598973\n",
      "========================================\n"
     ]
    }
   ],
   "source": [
    "# Selection\n",
    "print(\"Selection: \")\n",
    "print(\"Selecting a column (A): \")\n",
    "print(df[\"A\"])\n",
    "print(\"\\nSelecting by label (row 0): \")\n",
    "print(df.loc[dates[0]])\n",
    "print(\"\\nSelecting by position (row 1): \")\n",
    "print(df.iloc[1])\n",
    "print(\"\\nSelecting a subset of rows and columns: \")\n",
    "print(df.loc[dates[1:3], [\"A\", \"B\"]])\n",
    "print(\"=\"*40)"
   ]
  },
  {
   "cell_type": "code",
   "execution_count": 31,
   "metadata": {},
   "outputs": [
    {
     "name": "stdout",
     "output_type": "stream",
     "text": [
      "Missing Data: \n",
      "DataFrame with missing values: \n",
      "                   A         B         C         D    E\n",
      "2023-10-01  1.546868 -1.078798 -0.506977 -0.905649  1.0\n",
      "2023-10-02  0.740173  1.673888  1.869180 -3.768807  1.0\n",
      "2023-10-03 -0.345186  0.598973  1.466920  0.695666  NaN\n",
      "2023-10-04 -0.154827  0.180318 -0.245466  0.909880  NaN\n",
      "\n",
      "Dropping rows with missing values: \n",
      "                   A         B         C         D    E\n",
      "2023-10-01  1.546868 -1.078798 -0.506977 -0.905649  1.0\n",
      "2023-10-02  0.740173  1.673888  1.869180 -3.768807  1.0\n",
      "\n",
      "Filling missing values: \n",
      "                   A         B         C         D    E\n",
      "2023-10-01  1.546868 -1.078798 -0.506977 -0.905649  1.0\n",
      "2023-10-02  0.740173  1.673888  1.869180 -3.768807  1.0\n",
      "2023-10-03 -0.345186  0.598973  1.466920  0.695666  0.0\n",
      "2023-10-04 -0.154827  0.180318 -0.245466  0.909880  0.0\n",
      "============================================================\n"
     ]
    }
   ],
   "source": [
    "# Missing Data\n",
    "df1 = df.reindex(index=dates[0:4], columns=list(df.columns) + [\"E\"])\n",
    "df1.loc[dates[0]:dates[1], \"E\"] = 1\n",
    "\n",
    "print(\"Missing Data: \")\n",
    "print(\"DataFrame with missing values: \")\n",
    "print(df1)\n",
    "print(\"\\nDropping rows with missing values: \")\n",
    "print(df1.dropna())\n",
    "print(\"\\nFilling missing values: \")\n",
    "print(df1.fillna(value=0))\n",
    "print(\"=\"*60)"
   ]
  },
  {
   "cell_type": "code",
   "execution_count": 22,
   "metadata": {},
   "outputs": [
    {
     "name": "stdout",
     "output_type": "stream",
     "text": [
      "Operations: \n",
      "Mean of each column: \n",
      "A    0.597656\n",
      "B    0.531092\n",
      "C    0.399466\n",
      "D   -0.405934\n",
      "dtype: float64\n",
      "\n",
      "Sum of each row: \n",
      "2023-10-01   -0.944556\n",
      "2023-10-02    0.514434\n",
      "2023-10-03    2.416373\n",
      "2023-10-04    0.689906\n",
      "2023-10-05    1.360405\n",
      "2023-10-06    2.697122\n",
      "Freq: D, dtype: float64\n",
      "========================================\n"
     ]
    }
   ],
   "source": [
    "# Operations\n",
    "print(\"Operations: \")\n",
    "print(\"Mean of each column: \")\n",
    "print(df.mean())\n",
    "print(\"\\nSum of each row: \")\n",
    "print(df.sum(axis=1))\n",
    "print(\"=\"*40)"
   ]
  },
  {
   "cell_type": "code",
   "execution_count": 23,
   "metadata": {},
   "outputs": [
    {
     "name": "stdout",
     "output_type": "stream",
     "text": [
      "Merge: \n",
      "Merged DataFrame: \n",
      "  key   A   B   C   D\n",
      "0  K0  A0  B0  C0  D0\n",
      "1  K1  A1  B1  C1  D1\n",
      "2  K2  A2  B2  C2  D2\n",
      "3  K3  A3  B3  C3  D3\n",
      "========================================\n"
     ]
    }
   ],
   "source": [
    "# Merge\n",
    "left = pd.DataFrame({\"key\": ['K0', \"K1\", \"K2\", \"K3\"], \"A\":[\"A0\",\"A1\",\"A2\", \"A3\"], \"B\":[\"B0\",\"B1\",\"B2\",\"B3\"]})\n",
    "right = pd.DataFrame({\"key\": ['K0', \"K1\", \"K2\", \"K3\"], \"C\":[\"C0\",\"C1\",\"C2\", \"C3\"], \"D\":[\"D0\",\"D1\",\"D2\",\"D3\"]})\n",
    "merge_df = pd.merge(left, right, on=\"key\")\n",
    "\n",
    "print(\"Merge: \")\n",
    "print(\"Merged DataFrame: \")\n",
    "print(merge_df)\n",
    "print(\"=\"*40)"
   ]
  },
  {
   "cell_type": "code",
   "execution_count": 24,
   "metadata": {},
   "outputs": [
    {
     "name": "stdout",
     "output_type": "stream",
     "text": [
      "Grouping: \n",
      "Grouped DataFrame: \n",
      "                  B         C         D\n",
      "A                                      \n",
      "-0.345186  0.598973  1.466920  0.695666\n",
      "-0.154827  0.180318 -0.245466  0.909880\n",
      " 0.570575 -0.040503 -0.558665  1.388998\n",
      " 0.740173  1.673888  1.869180 -3.768807\n",
      " 1.228333  1.852674  0.371807 -0.755692\n",
      " 1.546868 -1.078798 -0.506977 -0.905649\n",
      "========================================\n"
     ]
    }
   ],
   "source": [
    "# Grouping\n",
    "grouped = df.groupby(\"A\").sum()\n",
    "print(\"Grouping: \")\n",
    "print(\"Grouped DataFrame: \")\n",
    "print(grouped)\n",
    "print(\"=\"*40)"
   ]
  },
  {
   "cell_type": "code",
   "execution_count": 25,
   "metadata": {},
   "outputs": [
    {
     "name": "stdout",
     "output_type": "stream",
     "text": [
      "Reshaping: \n",
      "Stacked DataFrame: \n",
      "2023-10-01  A    1.546868\n",
      "            B   -1.078798\n",
      "            C   -0.506977\n",
      "            D   -0.905649\n",
      "2023-10-02  A    0.740173\n",
      "            B    1.673888\n",
      "            C    1.869180\n",
      "            D   -3.768807\n",
      "2023-10-03  A   -0.345186\n",
      "            B    0.598973\n",
      "            C    1.466920\n",
      "            D    0.695666\n",
      "2023-10-04  A   -0.154827\n",
      "            B    0.180318\n",
      "            C   -0.245466\n",
      "            D    0.909880\n",
      "2023-10-05  A    0.570575\n",
      "            B   -0.040503\n",
      "            C   -0.558665\n",
      "            D    1.388998\n",
      "2023-10-06  A    1.228333\n",
      "            B    1.852674\n",
      "            C    0.371807\n",
      "            D   -0.755692\n",
      "dtype: float64\n",
      "\n",
      "Unstacked DataFrame: \n",
      "                   A         B         C         D\n",
      "2023-10-01  1.546868 -1.078798 -0.506977 -0.905649\n",
      "2023-10-02  0.740173  1.673888  1.869180 -3.768807\n",
      "2023-10-03 -0.345186  0.598973  1.466920  0.695666\n",
      "2023-10-04 -0.154827  0.180318 -0.245466  0.909880\n",
      "2023-10-05  0.570575 -0.040503 -0.558665  1.388998\n",
      "2023-10-06  1.228333  1.852674  0.371807 -0.755692\n",
      "========================================\n"
     ]
    }
   ],
   "source": [
    "# Reshaping\n",
    "stacked = df.stack()\n",
    "unstacked = stacked.unstack()\n",
    "\n",
    "print(\"Reshaping: \")\n",
    "print(\"Stacked DataFrame: \")\n",
    "print(stacked)\n",
    "print(\"\\nUnstacked DataFrame: \")\n",
    "print(unstacked)\n",
    "print(\"=\"*40)"
   ]
  },
  {
   "cell_type": "code",
   "execution_count": 26,
   "metadata": {},
   "outputs": [
    {
     "name": "stdout",
     "output_type": "stream",
     "text": [
      "Times Series: \n",
      "2023-01-01    0.442505\n",
      "2023-01-02    0.993316\n",
      "2023-01-03    0.071440\n",
      "2023-01-04    0.222703\n",
      "2023-01-05    0.845845\n",
      "Freq: D, dtype: float64\n",
      "\n",
      "Cumulative Sum: \n",
      "2023-01-01    0.442505\n",
      "2023-01-02    1.435821\n",
      "2023-01-03    1.507260\n",
      "2023-01-04    1.729964\n",
      "2023-01-05    2.575808\n",
      "Freq: D, dtype: float64\n",
      "========================================\n"
     ]
    }
   ],
   "source": [
    "# Time Series\n",
    "ts = pd.Series(np.random.rand(1000), index=pd.date_range(\"2023-01-01\", periods=1000))\n",
    "cumulative_sum = ts.cumsum()\n",
    "\n",
    "print(\"Times Series: \")\n",
    "print(ts.head())\n",
    "print(\"\\nCumulative Sum: \")\n",
    "print(cumulative_sum.head())\n",
    "print(\"=\"*40)"
   ]
  },
  {
   "cell_type": "code",
   "execution_count": 27,
   "metadata": {},
   "outputs": [
    {
     "name": "stdout",
     "output_type": "stream",
     "text": [
      "Categoricals: \n",
      "Original Categorical Seeries: \n",
      "0     cat\n",
      "1     dog\n",
      "2    bird\n",
      "3     cat\n",
      "4     dog\n",
      "dtype: category\n",
      "Categories (3, object): ['bird', 'cat', 'dog']\n",
      "\n",
      "New Categorical Series with updated categories: \n",
      "0    NaN\n",
      "1    NaN\n",
      "2    NaN\n",
      "3    NaN\n",
      "4    NaN\n",
      "dtype: category\n",
      "Categories (3, object): ['Category 1', 'Category 2', 'Category 3']\n"
     ]
    }
   ],
   "source": [
    "# Categoricals\n",
    "\n",
    "# Create a Categorical Series\n",
    "s = pd.Series([\"cat\", \"dog\", \"bird\", \"cat\", \"dog\"], dtype=\"category\")\n",
    "\n",
    "# Define new categories\n",
    "new_categories = [\"Category 1\", \"Category 2\", \"Category 3\"]\n",
    "\n",
    "# Create a new categorial Series with the new categories\n",
    "s_new = s.cat.set_categories(new_categories)\n",
    "\n",
    "print(\"Categoricals: \")\n",
    "print(\"Original Categorical Seeries: \")\n",
    "print(s)\n",
    "print(\"\\nNew Categorical Series with updated categories: \")\n",
    "print(s_new)"
   ]
  },
  {
   "cell_type": "code",
   "execution_count": 28,
   "metadata": {},
   "outputs": [
    {
     "data": {
      "image/png": "[encoded data removed]",
      "text/plain": [
       "<Figure size 640x480 with 1 Axes>"
      ]
     },
     "metadata": {},
     "output_type": "display_data"
    },
    {
     "name": "stdout",
     "output_type": "stream",
     "text": [
      "Plotting: \n",
      "========================================\n"
     ]
    }
   ],
   "source": [
    "import matplotlib.pyplot as plt\n",
    "# Plotting\n",
    "df.plot()\n",
    "plt.show()\n",
    "\n",
    "print(\"Plotting: \")\n",
    "print(\"=\"*40)"
   ]
  },
  {
   "cell_type": "code",
   "execution_count": 37,
   "metadata": {},
   "outputs": [
    {
     "name": "stdout",
     "output_type": "stream",
     "text": [
      "Importing and Exporting Data: \n",
      "Exported DataFrame to CSV: \n",
      "                   A         B         C         D\n",
      "2023-10-01  1.546868 -1.078798 -0.506977 -0.905649\n",
      "2023-10-02  0.740173  1.673888  1.869180 -3.768807\n",
      "2023-10-03 -0.345186  0.598973  1.466920  0.695666\n",
      "2023-10-04 -0.154827  0.180318 -0.245466  0.909880\n",
      "2023-10-05  0.570575 -0.040503 -0.558665  1.388998\n",
      "2023-10-06  1.228333  1.852674  0.371807 -0.755692\n",
      "\n",
      "Imported DataFrame from CSV: \n",
      "    SUBJECT Stim1 Stim2  Response\n",
      "0         1     B     D         5\n",
      "1         1     A     B         1\n",
      "2         1     B     C         7\n",
      "3         2     A     C         3\n",
      "4         2     A     B         2\n",
      "5         2     B     C         6\n",
      "6         3     B     C         6\n",
      "7         3     C     D         5\n",
      "8         3     A     B         3\n",
      "9         4     B     D         2\n",
      "10        4     A     D         2\n",
      "11        4     B     C         5\n",
      "12        5     C     D         6\n",
      "13        5     A     D         1\n",
      "14        5     A     B         2\n",
      "15        6     A     B         2\n",
      "16        6     A     D         2\n",
      "17        6     B     D         3\n",
      "18        7     A     D         1\n",
      "19        7     B     D         5\n",
      "20        7     A     B         1\n",
      "21        8     C     D         5\n",
      "22        8     A     C         4\n",
      "23        8     A     B         3\n",
      "24        9     A     D         2\n",
      "25        9     A     B         1\n",
      "26        9     C     D         5\n",
      "27       10     A     C         5\n",
      "28       10     B     C         7\n",
      "29       10     A     B         2\n",
      "========================================\n"
     ]
    }
   ],
   "source": [
    "# Importing and Exporting Data\n",
    "imported_df = pd.read_csv(\"sample_data.csv\")\n",
    "\n",
    "print(\"Importing and Exporting Data: \")\n",
    "print(\"Exported DataFrame to CSV: \")\n",
    "print(df)\n",
    "print(\"\\nImported DataFrame from CSV: \")\n",
    "print(imported_df)\n",
    "print(\"=\"*40)\n",
    "df.to_csv(\"sample_data2.csv\")"
   ]
  }
 ],
 "metadata": {
  "kernelspec": {
   "display_name": "myenv",
   "language": "python",
   "name": "python3"
  },
  "language_info": {
   "codemirror_mode": {
    "name": "ipython",
    "version": 3
   },
   "file_extension": ".py",
   "mimetype": "text/x-python",
   "name": "python",
   "nbconvert_exporter": "python",
   "pygments_lexer": "ipython3",
   "version": "3.10.13"
  }
 },
 "nbformat": 4,
 "nbformat_minor": 2
}
