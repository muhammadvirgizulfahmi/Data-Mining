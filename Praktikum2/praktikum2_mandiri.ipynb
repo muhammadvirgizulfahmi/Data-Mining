{
 "cells": [
  {
   "cell_type": "code",
   "execution_count": 1,
   "metadata": {},
   "outputs": [],
   "source": [
    "# import library\n",
    "import pandas as pd\n",
    "import numpy as np\n",
    "import matplotlib.pyplot as plt"
   ]
  },
  {
   "cell_type": "code",
   "execution_count": 2,
   "metadata": {},
   "outputs": [
    {
     "name": "stdout",
     "output_type": "stream",
     "text": [
      "     cgpa  exam_marks  placed\n",
      "0    7.19        26.0       1\n",
      "1    7.46        38.0       1\n",
      "2    7.54        40.0       1\n",
      "3    6.42         8.0       1\n",
      "4    7.23        17.0       0\n",
      "..    ...         ...     ...\n",
      "995  8.87        44.0       1\n",
      "996  9.12        65.0       1\n",
      "997  4.89        34.0       0\n",
      "998  8.62        46.0       1\n",
      "999  4.90        10.0       1\n",
      "\n",
      "[1000 rows x 3 columns]\n"
     ]
    }
   ],
   "source": [
    "# menyimpan data csv ke dalam variable\n",
    "data = pd.read_csv('placement.csv')\n",
    "\n",
    "# cetak data\n",
    "print(data)"
   ]
  },
  {
   "cell_type": "code",
   "execution_count": 3,
   "metadata": {},
   "outputs": [
    {
     "data": {
      "image/png": "[encoded data removed]",
      "text/plain": [
       "<Figure size 640x480 with 1 Axes>"
      ]
     },
     "metadata": {},
     "output_type": "display_data"
    }
   ],
   "source": [
    "# membuat grafik\n",
    "data.boxplot(column=['cgpa', 'exam_marks'])\n",
    "plt.title('Boxplot CGPA dan Nilai Ujian')\n",
    "plt.ylabel('Range')\n",
    "\n",
    "# mencetak hasil grafik\n",
    "plt.show()"
   ]
  },
  {
   "cell_type": "code",
   "execution_count": 4,
   "metadata": {},
   "outputs": [
    {
     "name": "stdout",
     "output_type": "stream",
     "text": [
      "Q1:  6.55\n",
      "Q3:  7.37\n",
      "Outlier CGPA: \n",
      "     cgpa  exam_marks  placed\n",
      "278  5.23        17.0       1\n",
      "485  4.92        44.0       1\n",
      "815  5.27        43.0       0\n",
      "995  8.87        44.0       1\n",
      "996  9.12        65.0       1\n",
      "997  4.89        34.0       0\n",
      "998  8.62        46.0       1\n",
      "999  4.90        10.0       1\n"
     ]
    }
   ],
   "source": [
    "# data outlier cgpa\n",
    "# menghitung kuartil pertama\n",
    "q1 = np.quantile(data['cgpa'], 0.25)\n",
    "print(\"Q1: \", q1)\n",
    "# menghitung kuartil ketiga\n",
    "q3 = np.quantile(data['cgpa'], 0.75)\n",
    "print(\"Q3: \", q3)\n",
    "iqr = q3 - q1\n",
    "# menghitung batas bawah dan batas atas\n",
    "batas_bawah_cgpa = q1 - 1.5 * iqr\n",
    "batas_atas_cgpa = q3 + 1.5 * iqr\n",
    "\n",
    "# mencari outlier dalam data CGPA\n",
    "outliers_cgpa = data[(data['cgpa'] < batas_bawah_cgpa) | (data['cgpa'] > batas_atas_cgpa)]\n",
    "\n",
    "# mencetak data outlier CGPA\n",
    "print(\"Outlier CGPA: \")\n",
    "print(outliers_cgpa)"
   ]
  },
  {
   "cell_type": "code",
   "execution_count": 5,
   "metadata": {},
   "outputs": [
    {
     "name": "stdout",
     "output_type": "stream",
     "text": [
      "Q1:  17.0\n",
      "Q3:  44.0\n",
      "Outlier Nilai Ujian: \n",
      "     cgpa  exam_marks  placed\n",
      "9    7.75        94.0       1\n",
      "40   6.60        86.0       1\n",
      "61   7.51        86.0       0\n",
      "134  6.33        93.0       0\n",
      "162  7.80        90.0       0\n",
      "283  7.09        87.0       0\n",
      "290  8.38        87.0       0\n",
      "311  6.97        87.0       1\n",
      "324  6.64        90.0       0\n",
      "630  6.56        96.0       1\n",
      "685  6.05        87.0       1\n",
      "730  6.14        90.0       1\n",
      "771  7.31        86.0       1\n",
      "846  6.99        97.0       0\n",
      "917  5.95       100.0       0\n"
     ]
    }
   ],
   "source": [
    "# data outlier nilai ujian\n",
    "# menghitung kuartil pertama\n",
    "q1 = np.quantile(data['exam_marks'], 0.25)\n",
    "print(\"Q1: \", q1)\n",
    "# mitung kuartil ketiga\n",
    "q3 = np.quantile(data['exam_marks'], 0.75)\n",
    "print(\"Q3: \", q3)\n",
    "iqr = q3 - q1\n",
    "# Hitung batas bawah dan batas atas\n",
    "batas_bawah_marks = q1 - 1.5 * iqr\n",
    "batas_atas_marks = q3 + 1.5 * iqr\n",
    "\n",
    "# mencari outlier dalam data nilai ujian\n",
    "outliers_marks = data[(data['exam_marks'] < batas_bawah_marks) | (data['exam_marks'] > batas_atas_marks)]\n",
    "\n",
    "# mencetak data outlier nilai ujian\n",
    "print(\"Outlier Nilai Ujian: \")\n",
    "print(outliers_marks)"
   ]
  },
  {
   "cell_type": "code",
   "execution_count": 6,
   "metadata": {},
   "outputs": [
    {
     "name": "stdout",
     "output_type": "stream",
     "text": [
      "     cgpa  exam_marks  placed\n",
      "0    7.19        26.0       1\n",
      "1    7.46        38.0       1\n",
      "2    7.54        40.0       1\n",
      "3    6.42         8.0       1\n",
      "4    7.23        17.0       0\n",
      "..    ...         ...     ...\n",
      "990  6.17        33.0       1\n",
      "991  7.04        57.0       0\n",
      "992  6.26        12.0       0\n",
      "993  6.73        21.0       1\n",
      "994  6.48        63.0       0\n",
      "\n",
      "[977 rows x 3 columns]\n"
     ]
    }
   ],
   "source": [
    "# memasukkan data outlier CGPA dan nilai ujian ke dalam variable\n",
    "outliers = ((data['cgpa'] < batas_bawah_cgpa) | (data['cgpa'] > batas_atas_cgpa) |\n",
    "            (data['exam_marks'] < batas_bawah_marks) | (data['exam_marks'] > batas_atas_marks))\n",
    "\n",
    "# membuat variable untuk menampung data tanpa outlier\n",
    "data_bersih = data[~outliers]\n",
    "\n",
    "# mencetak data tanpa outlier\n",
    "print(data_bersih)"
   ]
  },
  {
   "cell_type": "code",
   "execution_count": 7,
   "metadata": {},
   "outputs": [
    {
     "name": "stdout",
     "output_type": "stream",
     "text": [
      "Rata-rata awal nilai ujian:  32.225\n",
      "Rata-rata akhir nilai ujian:  31.285568065506652\n"
     ]
    }
   ],
   "source": [
    "# menghitung rata-rata cgpa\n",
    "print('Rata-rata awal nilai ujian: ', np.mean(data['exam_marks']))\n",
    "\n",
    "print('Rata-rata akhir nilai ujian: ', np.mean(data_bersih['exam_marks']))"
   ]
  },
  {
   "cell_type": "code",
   "execution_count": 8,
   "metadata": {},
   "outputs": [
    {
     "data": {
      "image/png": "[encoded data removed]",
      "text/plain": [
       "<Figure size 640x480 with 1 Axes>"
      ]
     },
     "metadata": {},
     "output_type": "display_data"
    }
   ],
   "source": [
    "# membuat grafik nilai ujian tanpa outlier\n",
    "plt.hist(data_bersih['exam_marks'], bins=4, color='green', edgecolor='black')\n",
    "plt.title('Histogram Nilai Ujian tanpa Outlier')\n",
    "plt.xlabel('Nilai Ujian')\n",
    "plt.ylabel('Frekuensi')\n",
    "\n",
    "# mencetak hasil grafik\n",
    "plt.show()"
   ]
  }
 ],
 "metadata": {
  "kernelspec": {
   "display_name": "myenv",
   "language": "python",
   "name": "python3"
  },
  "language_info": {
   "codemirror_mode": {
    "name": "ipython",
    "version": 3
   },
   "file_extension": ".py",
   "mimetype": "text/x-python",
   "name": "python",
   "nbconvert_exporter": "python",
   "pygments_lexer": "ipython3",
   "version": "3.10.13"
  }
 },
 "nbformat": 4,
 "nbformat_minor": 2
}
